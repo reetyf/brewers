{
 "cells": [
  {
   "cell_type": "markdown",
   "id": "9e6f1c2a",
   "metadata": {},
   "source": [
    "# 1.\n",
    "#### Q: Assume that in every inning a starting pitcher pitches he’s projected to give up 0 runs 60% of the time and 1 run 40% of the time. Assume similarly that a relief pitcher is projected to give up 0 runs 70% of the time and 1 run 30% of the time. Assume the starting pitcher will throw 165 innings and the relief pitcher will throw 50 innings in a season. What are the odds that the starting pitcher gives up less runs on a per-inning basis than the relief pitcher?"
   ]
  },
  {
   "cell_type": "markdown",
   "id": "75c9f0ae",
   "metadata": {},
   "source": [
    "These examples highlight a baseball-influenced example of Bernoulli Trials, meaning they satisfy 3 conditions: "
   ]
  },
  {
   "cell_type": "markdown",
   "id": "1d4a7213",
   "metadata": {},
   "source": [
    "- Two outcomes are possible (a success and a failure). \n",
    "- The probabilities of these outcomes are consistent.\n",
    "- Each subsequent attempt (in this case innings) are independent of each other. "
   ]
  },
  {
   "cell_type": "markdown",
   "id": "e1d708cf",
   "metadata": {},
   "source": [
    "Naturally, in this case, a success can be defined to be the starter or reliever giving up 0 runs that inning, while the failure is giving up a run. This is contrary to convention, due to the fact that success in defense/golf/pitching is analagous to minimization of points. "
   ]
  },
  {
   "cell_type": "markdown",
   "id": "62c4818f",
   "metadata": {},
   "source": [
    "Therefore, for the starter, $ P(success) = p_s = .6 $ and $P(failure) = q_s = .4$"
   ]
  },
  {
   "cell_type": "markdown",
   "id": "23fb79d6",
   "metadata": {},
   "source": [
    "And the reliever, $P(success) = p_r = .7$ and $P(failure) = q_r = .3$"
   ]
  },
  {
   "cell_type": "markdown",
   "id": "7026e290",
   "metadata": {},
   "source": [
    "# 2. \n",
    "#### Q: A pitcher throws 60% of his fastballs in the strike zone. Given that a pitch is in the strike zone, the home plate umpire is known to call a strike 75% of the time, and given a pitch out of the strike zone he is known to call a ball 65% of the time. A fastball from this pitcher in a game with the umpire behind the plate is called a ball. What is the probability that that pitch was in the strike zone?"
   ]
  },
  {
   "cell_type": "markdown",
   "id": "dd7f3a6c",
   "metadata": {},
   "source": [
    "To find this probability Bayes' Theorem can be utilized. This theorem helps find probabilities given previous information known about conditions related to the event.\n"
   ]
  },
  {
   "cell_type": "markdown",
   "id": "5a719110",
   "metadata": {},
   "source": [
    "$$ P(A| B) = \\frac{P(B| A) P(A)}{ P(B | A) P(A) + P(B| A^c) P(A^c)}$$"
   ]
  },
  {
   "cell_type": "markdown",
   "id": "0eb9bbdc",
   "metadata": {},
   "source": [
    "where,\n",
    "- $A$ and $B$ are events\n",
    "- $P(A|B)$ is defined as the probability of A occurring, given B has occurred. \n",
    "- $P(B|A)$ is defined as the probability of B occurring, given A has occurred. \n",
    "- $A^c$ is the complement of A, 1 - A (probability of A not occurring)\n"
   ]
  },
  {
   "cell_type": "markdown",
   "id": "0392bb77",
   "metadata": {},
   "source": [
    "In this case, we can define our events to be:\n",
    "- $A$: the pitch is in the strike zone\n",
    "- $B$: the pitch is called a ball\n",
    "\n",
    "The objective is to solve for the probability that the pitch was in the strike zone, given it's called a ball, or $P(A|B)$.\n",
    "\n",
    "And the subsequent probabilities that are known:\n",
    "- $P(A)$: the probability that the pitch is in the strike zone\n",
    "- $P(A^c)$: the probability that the pitch is out of the strike zone\n",
    "- $P(B|A)$: the probability that the pitch is called a ball, given it's in the zone.\n",
    "- $P(B| A^c)$: the probability that the pitch is called a ball, given it's out of the zone.\n",
    "\n",
    "The values are gathered from the question, and are as follows:"
   ]
  },
  {
   "cell_type": "code",
   "execution_count": 1,
   "id": "e16b2f91",
   "metadata": {},
   "outputs": [],
   "source": [
    "P_A = .6 # pitcher throws 60% of fastballs in the zone\n",
    "P_Ac = .4 # 1 - P(A)\n",
    "P_BA = .25 # complement of 75% from question: \"Given that a pitch is in the strike zone, the home plate umpire is known to call a strike 75% of the time\"\n",
    "P_BAc = .65 # \"and given a pitch out of the strike zone he is known to call a ball 65% of the time\""
   ]
  },
  {
   "cell_type": "markdown",
   "id": "ac0cc57f",
   "metadata": {},
   "source": [
    "And to plug into the formula and solve:"
   ]
  },
  {
   "cell_type": "code",
   "execution_count": 2,
   "id": "8eb34ea6",
   "metadata": {},
   "outputs": [
    {
     "name": "stdout",
     "output_type": "stream",
     "text": [
      "The probability of the pitch being in the strike zone given it's called a ball is 37.0%\n"
     ]
    }
   ],
   "source": [
    "P_AB = (P_BA * P_A)/((P_BA * P_A)+(P_BAc*P_Ac))\n",
    "\n",
    "print(f\"The probability of the pitch being in the strike zone given it's called a ball is {round(P_AB,2)*100}%\")"
   ]
  },
  {
   "cell_type": "markdown",
   "id": "5d7ecd02",
   "metadata": {},
   "source": [
    "# 3."
   ]
  },
  {
   "cell_type": "markdown",
   "id": "60e89b84",
   "metadata": {},
   "source": [
    "#### A linear regression model with a normal error term is fit to predict ERA as a function of K% (strikeouts per plate appearance) and BB% (walks per plate appearance) for pitchers. The estimated coefficients on the linear model are as follows: \n",
    "\n",
    "#### Intercept: 5.81 \n",
    "#### Slope on K%: -11.7\n",
    "#### Slope on BB%: 11.4\n",
    "#### Residual standard error/standard deviation of error on estimates: 1.31"
   ]
  },
  {
   "cell_type": "markdown",
   "id": "d7fb57ef",
   "metadata": {},
   "source": [
    "### 3a."
   ]
  },
  {
   "cell_type": "markdown",
   "id": "10dfd55a",
   "metadata": {},
   "source": [
    "#### What is the probability that a pitcher with a K% of 0.20 and a BB% of 0.10 outperforms a pitcher with a K% of 0.25 and a BB% of 0.20 under this model?"
   ]
  },
  {
   "cell_type": "markdown",
   "id": "93977c5e",
   "metadata": {},
   "source": [
    "For this example, there are two independent variables (K% and BB%) and one dependent variable (ERA).\n",
    "\n",
    "The formula for a linear regression model with two features is the linear combination:\n",
    "\n",
    "$$ y = \\beta_0 + \\beta_1 x_1 + \\beta_2 x_2 + \\epsilon ,$$\n",
    "\n",
    "where\n",
    "- $\\beta_0$ is the intercept\n",
    "- $\\beta_1$ is the slope of K%\n",
    "- $\\beta_2$ :is the slope of BB%\n",
    "- $\\epsilon$ is the error term.\n"
   ]
  },
  {
   "cell_type": "markdown",
   "id": "c4dcccb3",
   "metadata": {},
   "source": [
    " $$ ERA prediction = 5.81  -11.7 x_1 + 11.4 x_2 + 1.31$$"
   ]
  },
  {
   "cell_type": "code",
   "execution_count": 3,
   "id": "9c55b720",
   "metadata": {},
   "outputs": [
    {
     "ename": "NameError",
     "evalue": "name 'LinearRegression' is not defined",
     "output_type": "error",
     "traceback": [
      "\u001b[0;31m---------------------------------------------------------------------------\u001b[0m",
      "\u001b[0;31mNameError\u001b[0m                                 Traceback (most recent call last)",
      "\u001b[0;32m/var/folders/7t/p8sb13rj56vgpg9wvfj5ph5c0000gn/T/ipykernel_39574/102280876.py\u001b[0m in \u001b[0;36m<module>\u001b[0;34m\u001b[0m\n\u001b[1;32m      1\u001b[0m \u001b[0;32mimport\u001b[0m \u001b[0mstatsmodels\u001b[0m \u001b[0;32mas\u001b[0m \u001b[0msm\u001b[0m\u001b[0;34m\u001b[0m\u001b[0;34m\u001b[0m\u001b[0m\n\u001b[0;32m----> 2\u001b[0;31m \u001b[0mlin\u001b[0m \u001b[0;34m=\u001b[0m \u001b[0mLinearRegression\u001b[0m\u001b[0;34m(\u001b[0m\u001b[0;34m)\u001b[0m\u001b[0;34m\u001b[0m\u001b[0;34m\u001b[0m\u001b[0m\n\u001b[0m\u001b[1;32m      3\u001b[0m \u001b[0mlin\u001b[0m\u001b[0;34m.\u001b[0m\u001b[0mintercept_\u001b[0m \u001b[0;34m=\u001b[0m \u001b[0;36m5.81\u001b[0m\u001b[0;34m\u001b[0m\u001b[0;34m\u001b[0m\u001b[0m\n\u001b[1;32m      4\u001b[0m \u001b[0mlin\u001b[0m\u001b[0;34m.\u001b[0m\u001b[0mcoef_\u001b[0m \u001b[0;34m=\u001b[0m \u001b[0;34m[\u001b[0m\u001b[0;34m-\u001b[0m\u001b[0;36m11.7\u001b[0m\u001b[0;34m,\u001b[0m\u001b[0;36m11.4\u001b[0m\u001b[0;34m]\u001b[0m\u001b[0;34m\u001b[0m\u001b[0;34m\u001b[0m\u001b[0m\n\u001b[1;32m      5\u001b[0m \u001b[0mlin\u001b[0m\u001b[0;34m.\u001b[0m\u001b[0msummary\u001b[0m\u001b[0;34m\u001b[0m\u001b[0;34m\u001b[0m\u001b[0m\n",
      "\u001b[0;31mNameError\u001b[0m: name 'LinearRegression' is not defined"
     ]
    }
   ],
   "source": [
    "import statsmodels as sm\n",
    "lin = LinearRegression()\n",
    "lin.intercept_ = 5.81\n",
    "lin.coef_ = [-11.7,11.4]\n",
    "lin.summary"
   ]
  },
  {
   "cell_type": "code",
   "execution_count": 4,
   "id": "5edd2bfc",
   "metadata": {},
   "outputs": [],
   "source": [
    "def predict_ERA(k,bb):\n",
    "    return round(5.81 - 11.7*k + 11.4*bb,2)"
   ]
  },
  {
   "cell_type": "code",
   "execution_count": 5,
   "id": "c3708ad8",
   "metadata": {},
   "outputs": [
    {
     "data": {
      "text/plain": [
       "(4.61, 5.17)"
      ]
     },
     "execution_count": 5,
     "metadata": {},
     "output_type": "execute_result"
    }
   ],
   "source": [
    "k_p1 = .2\n",
    "bb_p1 = .1\n",
    "k_p2 = .25\n",
    "bb_p2 = .2\n",
    "\n",
    "ERA_1 = predict_ERA(k_p1,bb_p1)\n",
    "ERA_2 = predict_ERA(k_p2,bb_p2)\n",
    "\n",
    "ERA_1,ERA_2"
   ]
  },
  {
   "cell_type": "markdown",
   "id": "5a1aab71",
   "metadata": {},
   "source": [
    "## 3b.\n",
    "#### If Hit by Pitches per PA were to be added to this model, would you expect the coefficient on BB% to be greater or lower in magnitude? Why?"
   ]
  },
  {
   "cell_type": "markdown",
   "id": "2d580d99",
   "metadata": {},
   "source": [
    "If HBP/PA were added to the model, the changes on BB% would be negligible. This is due to what the coefficient in this model represents. It measures the extent to which walks are detrimental to ERA. This would not change for any reason, even if involving another stat, such as H/9 or HR/9. \n",
    "\n",
    "Moreover, HBP should not be added to this model due to the colinearity to BB%. Before training machine learning models, colinearity should be tested for and avoided. Potential remedies include dropping the more insignificant colinear variable or creating two separate models.  \n",
    "\n",
    "Colinearity can be defined as the propensity to which two independent, predictor variables have a linear relationship each other. When this occurs, it is impossible to measure what is affecting the dependent variable, and leads to an increased p-value for each coefficient. This signifies decreased statistical significance of the findings.\n",
    "\n",
    "In this case, when a pitcher is wild and lacks control, both walks and HBP occur more frequently. This relationship is a strong positive correlation, leading to colinearity between these variables. Including both in a linear model would render the coefficients unreliable."
   ]
  },
  {
   "cell_type": "markdown",
   "id": "20506c43",
   "metadata": {},
   "source": [
    "## 3c. "
   ]
  },
  {
   "cell_type": "markdown",
   "id": "696ee75c",
   "metadata": {},
   "source": [
    "**On the same data set, a logistic regression model is fit with the dependent variable being 1 if ERA\n",
    "is less than 4.00 and 0 if ERA is greater than 4.00.\n",
    "The estimated coefficients on the logistic regression model are as follows:**\n",
    "\n",
    "Intercept: -2.18\n",
    "\n",
    "K%: 15.9\n",
    "\n",
    "BB%: -16.1 \n",
    "\n",
    "**Is the marginal effect of K% on the probability of having an ERA < 4.00 larger for someone with a K%\n",
    "of 0.20 and BB% of 0.10 or a pitcher with a K% of 0.25 and BB% of 0.20?**"
   ]
  },
  {
   "cell_type": "markdown",
   "id": "ceb6efe9",
   "metadata": {},
   "source": [
    "# 4."
   ]
  },
  {
   "cell_type": "markdown",
   "id": "57f105f1",
   "metadata": {},
   "source": [
    "#### Q: Entering the day of September 26, 2022 the New York Mets had a record of 97-57 and the Atlanta Braves were 95-58. In their remaining games, the Mets and Braves were set to play each other in a 3-game series, plus each had 2 other series against other opponents. To that point in the season the Mets’ record against the Braves was 9-7, and if the two teams tied in overall record at the end of the season, whichever team won the season series against each other would win the division. Assume that the Mets’ odds of winning each of their remaining games was 50%. Assume that the Braves’ odds of winning each game against the Mets was 50% and p against all non-Mets opponents. For what value of p would give the Braves a 50% chance of winning the division?"
   ]
  },
  {
   "cell_type": "markdown",
   "id": "d1cb6446",
   "metadata": {},
   "source": [
    "Firstly, outcomes of the Mets-Braves series needs to be calculated. This series ultimately determines the tiebreak - a major factor in determining the division winner. Due to their two game advantage going in, the Mets only need to win 1 game to win the tiebreak."
   ]
  },
  {
   "cell_type": "markdown",
   "id": "a56df3f7",
   "metadata": {},
   "source": [
    "The outcomes are as follows:\n",
    "1. Mets sweep: One outcome (MMM) Mets at 100 wins w/ tiebreak\n",
    "2. Mets win 2 games: Three outcomes (MMB, MBM, BMM) Mets at 99 wins w/ tiebreak\n",
    "3. Mets win 1 game: Three outcomes (BBM, BMB, MBB) Mets at 98 wins w/ tiebreak\n",
    "4. Braves sweep: One outcome (BBB) Mets at 97 wins w/o tiebreak"
   ]
  },
  {
   "cell_type": "markdown",
   "id": "5ef06c3d",
   "metadata": {},
   "source": [
    "The objective, then, is to find p such that $$P(Braves\\ win\\ Divison) = f(p) = .5$$ with $p$ being the probability that the Braves win a non-Mets game. Therefore, $1-p$ is the possibility the lose a non-Mets game."
   ]
  },
  {
   "cell_type": "markdown",
   "id": "a7e6d24d",
   "metadata": {},
   "source": [
    "The Mets final win total will be calculated. In other words, the number of ways to win a certain amount of games, over the total possible win/loss patterns.\n",
    "\n",
    " The probability for the Mets to win $w$ games for the rest of the year after the 3 Braves games can be found by the function:$$P(X = w) = \\frac{\\binom{5}{w}}{2^5}$$"
   ]
  },
  {
   "cell_type": "code",
   "execution_count": 6,
   "id": "c295fedb",
   "metadata": {},
   "outputs": [
    {
     "data": {
      "text/html": [
       "<div>\n",
       "<style scoped>\n",
       "    .dataframe tbody tr th:only-of-type {\n",
       "        vertical-align: middle;\n",
       "    }\n",
       "\n",
       "    .dataframe tbody tr th {\n",
       "        vertical-align: top;\n",
       "    }\n",
       "\n",
       "    .dataframe thead th {\n",
       "        text-align: right;\n",
       "    }\n",
       "</style>\n",
       "<table border=\"1\" class=\"dataframe\">\n",
       "  <thead>\n",
       "    <tr style=\"text-align: right;\">\n",
       "      <th></th>\n",
       "      <th>Mets wins by probability</th>\n",
       "    </tr>\n",
       "  </thead>\n",
       "  <tbody>\n",
       "    <tr>\n",
       "      <th>0</th>\n",
       "      <td>0.0312</td>\n",
       "    </tr>\n",
       "    <tr>\n",
       "      <th>1</th>\n",
       "      <td>0.1562</td>\n",
       "    </tr>\n",
       "    <tr>\n",
       "      <th>2</th>\n",
       "      <td>0.3125</td>\n",
       "    </tr>\n",
       "    <tr>\n",
       "      <th>3</th>\n",
       "      <td>0.3125</td>\n",
       "    </tr>\n",
       "    <tr>\n",
       "      <th>4</th>\n",
       "      <td>0.1562</td>\n",
       "    </tr>\n",
       "    <tr>\n",
       "      <th>5</th>\n",
       "      <td>0.0312</td>\n",
       "    </tr>\n",
       "  </tbody>\n",
       "</table>\n",
       "</div>"
      ],
      "text/plain": [
       "   Mets wins by probability\n",
       "0                    0.0312\n",
       "1                    0.1562\n",
       "2                    0.3125\n",
       "3                    0.3125\n",
       "4                    0.1562\n",
       "5                    0.0312"
      ]
     },
     "execution_count": 6,
     "metadata": {},
     "output_type": "execute_result"
    }
   ],
   "source": [
    "import math\n",
    "import pandas as pd\n",
    "import numpy as np\n",
    "\n",
    "met_prob = []\n",
    "for i in range (0,6):\n",
    "    met_prob.append(math.comb(5,i)/math.pow(2,5))\n",
    "a = np.array(met_prob)\n",
    "a = np.round(a,4)\n",
    "\n",
    "\n",
    "df = pd.DataFrame(data =a, columns = ['Mets wins by probability'])\n",
    "df"
   ]
  },
  {
   "cell_type": "markdown",
   "id": "1a0c22b6",
   "metadata": {},
   "source": [
    "Now the Braves probabilities can be added, which are $p$ for winning, and $1-p$ for losing after the Mets series."
   ]
  },
  {
   "cell_type": "code",
   "execution_count": 7,
   "id": "2dfad358",
   "metadata": {},
   "outputs": [
    {
     "data": {
      "text/html": [
       "<div>\n",
       "<style scoped>\n",
       "    .dataframe tbody tr th:only-of-type {\n",
       "        vertical-align: middle;\n",
       "    }\n",
       "\n",
       "    .dataframe tbody tr th {\n",
       "        vertical-align: top;\n",
       "    }\n",
       "\n",
       "    .dataframe thead th {\n",
       "        text-align: right;\n",
       "    }\n",
       "</style>\n",
       "<table border=\"1\" class=\"dataframe\">\n",
       "  <thead>\n",
       "    <tr style=\"text-align: right;\">\n",
       "      <th></th>\n",
       "      <th>Mets wins by probability</th>\n",
       "      <th>Braves wins by probability</th>\n",
       "    </tr>\n",
       "  </thead>\n",
       "  <tbody>\n",
       "    <tr>\n",
       "      <th>0</th>\n",
       "      <td>0.0312</td>\n",
       "      <td>(p-1)^5</td>\n",
       "    </tr>\n",
       "    <tr>\n",
       "      <th>1</th>\n",
       "      <td>0.1562</td>\n",
       "      <td>(p^1 +(p-1)^4)</td>\n",
       "    </tr>\n",
       "    <tr>\n",
       "      <th>2</th>\n",
       "      <td>0.3125</td>\n",
       "      <td>(p^2 +(p-1)^3)</td>\n",
       "    </tr>\n",
       "    <tr>\n",
       "      <th>3</th>\n",
       "      <td>0.3125</td>\n",
       "      <td>(p^3 +(p-1)^2)</td>\n",
       "    </tr>\n",
       "    <tr>\n",
       "      <th>4</th>\n",
       "      <td>0.1562</td>\n",
       "      <td>(p^4 +(p-1)^1)</td>\n",
       "    </tr>\n",
       "    <tr>\n",
       "      <th>5</th>\n",
       "      <td>0.0312</td>\n",
       "      <td>p^5</td>\n",
       "    </tr>\n",
       "  </tbody>\n",
       "</table>\n",
       "</div>"
      ],
      "text/plain": [
       "   Mets wins by probability Braves wins by probability\n",
       "0                    0.0312                    (p-1)^5\n",
       "1                    0.1562             (p^1 +(p-1)^4)\n",
       "2                    0.3125             (p^2 +(p-1)^3)\n",
       "3                    0.3125             (p^3 +(p-1)^2)\n",
       "4                    0.1562             (p^4 +(p-1)^1)\n",
       "5                    0.0312                       p^5 "
      ]
     },
     "execution_count": 7,
     "metadata": {},
     "output_type": "execute_result"
    }
   ],
   "source": [
    "braves_prob = []\n",
    "for i in range(0,6):\n",
    "    if(i == 0):\n",
    "        braves_prob.append(f'(p-1)^{str((5-i))}')\n",
    "    elif(5-i == 0):\n",
    "        braves_prob.append(f'p^{str(i)} ')\n",
    "    else:\n",
    "        braves_prob.append(f'(p^{str(i)} +(p-1)^{str((5-i))})')\n",
    "    \n",
    "a = np.array(braves_prob).T\n",
    "df['Braves wins by probability'] = a\n",
    "df"
   ]
  },
  {
   "cell_type": "markdown",
   "id": "6b4517da",
   "metadata": {},
   "source": [
    "Now the terms can begin to be added to the probability function.\n",
    "\n",
    "**For outcome 1**, the Mets will have clinched the division, since there is 5 games left with the Braves at 95 wins and without the tiebreak. So for this situation, no term is needed in $f(p)$.\n",
    "\n",
    "**For outcome 2**, the Mets would be at 99 wins with the Braves at 96 without the tiebreak. With 5 games remaining, the Mets would need to lose either 4 games (100 wins), or all 5 (99 wins). With the Braves needing to win all 5 (101 wins), or 4 or 5 (100,101 wins), respectively. \n",
    "\n",
    "These are possible situations that the Braves win, so they are needed to be accounted for in the function. It is important to note that this is granted outcome 2 has occurred. Therefore, any term is needed to be multiplied by the probability of outcome 2, .375 ($\\frac{3}{8}$). This is because for independent events $P(A and B) = P(A)*P(B)$.\n",
    "\n",
    "So after case 2 we have, $$f(p) = .375(M[0]B[4] + M[0]B[5] + M[1]B[5])$$\n",
    "\n",
    "**For outcome 3**, the Mets would be at 98 wins with the Braves at 97 without the tiebreak. So potential occurances for the Braves to win are (again multiplied by case 3 prob of .375)\n",
    "\n",
    "$$f(p) = .375(M[0]B[4] + M[0]B[5] + M[1]B[5])+ \n",
    "        \\\\ .375(M[0]B[5]+M[0]B[4] + M[0]B[3] + M[0]B[2] + M[1]B[5]+M[1]B[4]+M[1]B[3] + M[2]B[5]+M[2]B[4] + M[3]B[5])$$\n",
    "        \n",
    "**For outcome 4**, Braves at 98 wins with tiebreak, Mets at 97, case 4 has .125 chance of occurring. Now it becomes easier to list the occurrances of the Mets not winning the division (1 - Mets win)\n",
    "$$f(p) = .375(M[0]B[4] + M[0]B[5] + M[1]B[5])+ \n",
    "        \\\\ .375(M[0]B[5]+M[0]B[4] + M[0]B[3] + M[0]B[2] + M[1]B[5]+M[1]B[4]+M[1]B[3] + M[2]B[5]+M[2]B[4] + M[3]B[5]) + \n",
    "        \\\\ .125(1 - (M[5]B[3] + M[5]B[2] + M[5]B[1] + M[5]B[0] + M[4]B[2] + M[4]B[1] + M[4]B[0] + M[3]B[1] + M[3]B[0] + M[2]B[0]))$$\n",
    "        \n",
    "        \n",
    "        "
   ]
  },
  {
   "cell_type": "code",
   "execution_count": 8,
   "id": "f91f9a26",
   "metadata": {},
   "outputs": [
    {
     "name": "stdout",
     "output_type": "stream",
     "text": [
      ".5 = .375(0.0312(p^4 +(p-1)^1) + 0.0312p^5  + 0.1562p^5 )+.375(0.0312p^5 +0.0312(p^4 +(p-1)^1) + 0.0312(p^3 +(p-1)^2) + 0.0312(p^2 +(p-1)^3) + 0.1562p^5 +0.1562(p^4 +(p-1)^1)+0.1562(p^3 +(p-1)^2) + 0.3125p^5 +0.3125(p^4 +(p-1)^1) + 0.3125p^5 ) + .125(1 - (0.0312(p^3 +(p-1)^2) + 0.0312(p^2 +(p-1)^3) + 0.0312(p^1 +(p-1)^4) + 0.0312(p-1)^5 + 0.1562(p^2 +(p-1)^3) + 0.1562(p^1 +(p-1)^4) + 0.1562(p-1)^5 + 0.3125(p^1 +(p-1)^4) + 0.3125(p-1)^5 + 0.3125(p-1)^5))\n"
     ]
    }
   ],
   "source": [
    "formula = '.5 = .375(M[0]B[4] + M[0]B[5] + M[1]B[5])+.375(M[0]B[5]+M[0]B[4] + M[0]B[3] + M[0]B[2] + M[1]B[5]+M[1]B[4]+M[1]B[3] + M[2]B[5]+M[2]B[4] + M[3]B[5]) + .125(1 - (M[5]B[3] + M[5]B[2] + M[5]B[1] + M[5]B[0] + M[4]B[2] + M[4]B[1] + M[4]B[0] + M[3]B[1] + M[3]B[0] + M[2]B[0]))'\n",
    "\n",
    "for i in range(0,6):\n",
    "    formula = formula.replace(f'M[{i}]', str(df.loc[i,'Mets wins by probability']))\n",
    "    formula = formula.replace(f'B[{i}]', str(df.loc[i,'Braves wins by probability']))\n",
    "    \n",
    "print(formula)"
   ]
  },
  {
   "cell_type": "markdown",
   "id": "a206e2ba",
   "metadata": {},
   "source": [
    "Wolfram Alpha cannot handle this, but Symbolab yields an answer of $92.725$%."
   ]
  },
  {
   "cell_type": "markdown",
   "id": "70315b08",
   "metadata": {},
   "source": [
    "# 6."
   ]
  },
  {
   "cell_type": "markdown",
   "id": "0660770d",
   "metadata": {},
   "source": [
    "#### Given the following information, describe how you would construct a model to predict the likelihood of a flyball out on a flyball to the outfield: \n",
    "\n",
    "- Identities of all players on field (fielders, pitcher, batter, runners)\n",
    "- game state (number of outs,runners on base, inning, score)\n",
    "- temperature\n",
    "- crowd size\n",
    "- batted ball launch characteristics (exit velocity, launch angle, spray angle, hang time)\n",
    "- outfielder fielding percentage\n",
    "- stadium characteristics (fence distance and height)\n",
    "- day/night game\n",
    "- pitcher/batter historical matchup results\n",
    "- initial fielder positioning data"
   ]
  },
  {
   "cell_type": "markdown",
   "id": "6303a507",
   "metadata": {},
   "source": [
    "# 7. "
   ]
  },
  {
   "cell_type": "markdown",
   "id": "efbad040",
   "metadata": {},
   "source": [
    "#### Q: The Brewers are considering signing one of two different infielders to 4-year guaranteed contracts with WAR/S projections and salaries in the following table:\n",
    "\n",
    "#### Assuming you had to pick one of these two deals, which player would you recommend the Brewers sign. Note: there are no forfeited draft picks or any other compensation required for the contracts. Please explain your process and any assumptions you make. Please limit your answer to 300 words."
   ]
  },
  {
   "cell_type": "code",
   "execution_count": 9,
   "id": "8126ab8f",
   "metadata": {},
   "outputs": [
    {
     "data": {
      "text/html": [
       "<div>\n",
       "<style scoped>\n",
       "    .dataframe tbody tr th:only-of-type {\n",
       "        vertical-align: middle;\n",
       "    }\n",
       "\n",
       "    .dataframe tbody tr th {\n",
       "        vertical-align: top;\n",
       "    }\n",
       "\n",
       "    .dataframe thead th {\n",
       "        text-align: right;\n",
       "    }\n",
       "</style>\n",
       "<table border=\"1\" class=\"dataframe\">\n",
       "  <thead>\n",
       "    <tr style=\"text-align: right;\">\n",
       "      <th></th>\n",
       "      <th>playerAwar</th>\n",
       "      <th>playerAsal</th>\n",
       "      <th>playerBwar</th>\n",
       "      <th>playerBsal</th>\n",
       "    </tr>\n",
       "  </thead>\n",
       "  <tbody>\n",
       "    <tr>\n",
       "      <th>2023</th>\n",
       "      <td>1.1</td>\n",
       "      <td>1.0</td>\n",
       "      <td>3.1</td>\n",
       "      <td>10.0</td>\n",
       "    </tr>\n",
       "    <tr>\n",
       "      <th>2024</th>\n",
       "      <td>1.7</td>\n",
       "      <td>3.0</td>\n",
       "      <td>2.4</td>\n",
       "      <td>10.0</td>\n",
       "    </tr>\n",
       "    <tr>\n",
       "      <th>2025</th>\n",
       "      <td>1.5</td>\n",
       "      <td>7.0</td>\n",
       "      <td>1.6</td>\n",
       "      <td>10.0</td>\n",
       "    </tr>\n",
       "    <tr>\n",
       "      <th>2026</th>\n",
       "      <td>1.2</td>\n",
       "      <td>10.0</td>\n",
       "      <td>0.7</td>\n",
       "      <td>10.0</td>\n",
       "    </tr>\n",
       "  </tbody>\n",
       "</table>\n",
       "</div>"
      ],
      "text/plain": [
       "      playerAwar  playerAsal  playerBwar  playerBsal\n",
       "2023         1.1         1.0         3.1        10.0\n",
       "2024         1.7         3.0         2.4        10.0\n",
       "2025         1.5         7.0         1.6        10.0\n",
       "2026         1.2        10.0         0.7        10.0"
      ]
     },
     "execution_count": 9,
     "metadata": {},
     "output_type": "execute_result"
    }
   ],
   "source": [
    "import pandas as pd\n",
    "\n",
    "data = {'2023':[ 1.1 ,1.0 ,3.1, 10.0],'2024':[1.7 ,3.0, 2.4, 10.0],'2025':[1.5, 7.0, 1.6, 10.0],'2026':[1.2, 10.0, 0.7, 10.0]}\n",
    "df = pd.DataFrame.from_dict(data, orient = 'index',columns = ['playerAwar','playerAsal','playerBwar','playerBsal'])\n",
    "df"
   ]
  },
  {
   "cell_type": "markdown",
   "id": "46492c12",
   "metadata": {},
   "source": [
    "Firstly, the most important calculation to be made from this data is salary per WAR."
   ]
  },
  {
   "cell_type": "code",
   "execution_count": 10,
   "id": "fbbae8bc",
   "metadata": {},
   "outputs": [
    {
     "data": {
      "text/html": [
       "<div>\n",
       "<style scoped>\n",
       "    .dataframe tbody tr th:only-of-type {\n",
       "        vertical-align: middle;\n",
       "    }\n",
       "\n",
       "    .dataframe tbody tr th {\n",
       "        vertical-align: top;\n",
       "    }\n",
       "\n",
       "    .dataframe thead th {\n",
       "        text-align: right;\n",
       "    }\n",
       "</style>\n",
       "<table border=\"1\" class=\"dataframe\">\n",
       "  <thead>\n",
       "    <tr style=\"text-align: right;\">\n",
       "      <th></th>\n",
       "      <th>playerAwar</th>\n",
       "      <th>playerAsal</th>\n",
       "      <th>playerBwar</th>\n",
       "      <th>playerBsal</th>\n",
       "    </tr>\n",
       "  </thead>\n",
       "  <tbody>\n",
       "    <tr>\n",
       "      <th>2023</th>\n",
       "      <td>1.1</td>\n",
       "      <td>1.0</td>\n",
       "      <td>3.1</td>\n",
       "      <td>10.0</td>\n",
       "    </tr>\n",
       "    <tr>\n",
       "      <th>2024</th>\n",
       "      <td>1.7</td>\n",
       "      <td>3.0</td>\n",
       "      <td>2.4</td>\n",
       "      <td>10.0</td>\n",
       "    </tr>\n",
       "    <tr>\n",
       "      <th>2025</th>\n",
       "      <td>1.5</td>\n",
       "      <td>7.0</td>\n",
       "      <td>1.6</td>\n",
       "      <td>10.0</td>\n",
       "    </tr>\n",
       "    <tr>\n",
       "      <th>2026</th>\n",
       "      <td>1.2</td>\n",
       "      <td>10.0</td>\n",
       "      <td>0.7</td>\n",
       "      <td>10.0</td>\n",
       "    </tr>\n",
       "    <tr>\n",
       "      <th>Total</th>\n",
       "      <td>5.5</td>\n",
       "      <td>21.0</td>\n",
       "      <td>7.8</td>\n",
       "      <td>40.0</td>\n",
       "    </tr>\n",
       "  </tbody>\n",
       "</table>\n",
       "</div>"
      ],
      "text/plain": [
       "       playerAwar  playerAsal  playerBwar  playerBsal\n",
       "2023          1.1         1.0         3.1        10.0\n",
       "2024          1.7         3.0         2.4        10.0\n",
       "2025          1.5         7.0         1.6        10.0\n",
       "2026          1.2        10.0         0.7        10.0\n",
       "Total         5.5        21.0         7.8        40.0"
      ]
     },
     "execution_count": 10,
     "metadata": {},
     "output_type": "execute_result"
    }
   ],
   "source": [
    "df.loc['Total'] = df.sum()\n",
    "df"
   ]
  },
  {
   "cell_type": "code",
   "execution_count": 11,
   "id": "73eb5495",
   "metadata": {},
   "outputs": [
    {
     "name": "stdout",
     "output_type": "stream",
     "text": [
      "The $/WAR of player A is $3.82 mil, while the $/WAR of player B is $5.13 mil\n"
     ]
    }
   ],
   "source": [
    "sal_per_war_A = df.loc['Total','playerAsal']/df.loc['Total','playerAwar']\n",
    "sal_per_war_B = df.loc['Total','playerBsal']/df.loc['Total','playerBwar']\n",
    "\n",
    "print(f'The $/WAR of player A is ${round(sal_per_war_A,2)} mil, while the $/WAR of player B is ${round(sal_per_war_B,2)} mil')"
   ]
  },
  {
   "cell_type": "markdown",
   "id": "66c8f4ee",
   "metadata": {},
   "source": [
    "From these figures it is easy to gather that player A is a better deal in terms of price and performance than player B. From Fangraphs, the average spent per war is ~$8.5 million. These contracts both are significantly lower than that average value."
   ]
  },
  {
   "cell_type": "markdown",
   "id": "57cd5bb5",
   "metadata": {},
   "source": [
    "There are fundamental, baseball-driven questions that undoubtedly influence this decision as well. The most important of these is the Brewers' aspirations for the years of player B's most heavy monetary commitment. Just how valuable are the added wins granted by player B in 2023 and 2024? On a team that has World Series aspirations, these added wins could be the difference between winning the central division and a bye or merely a birth in the wild card. So despite player A's team friendly deal over the four years, in certain years it is of the utmost importance to maximize output at each position. In this case, player B would be a better fit. \n",
    "\n",
    "The concept of positional value has a large impact on WAR. It refers to the value of a position player relative to his peers. For example, the shortstop and catcher positions yield higher WAR than 1st basemen for equal performance, due to a wider gap between high and low production players. This has a drastic impact on the decision. For example, in 2022, a first baseman with 2.8 oWAR was Matt Olsen, who triple slashed .240/.325/.477 with 34 HR and 103 RBI. Willson Contrareas, a catcher, had 3.7 oWAR with only 22 HR, 55 RBI and a similar slash of .243/.349/.466.\n",
    "\n",
    "In modern baseball, players are deemed to be more valuable if they are able to play more than one position at a high level. Where as in previous generations, a separate 'utility player' was often rostered, now even stars are proficient at multiple places in the field. This corresponds with the increasingly positionless game that has developed. Even with the incoming ban of extreme shifts, it is an incredible advantage to have these versatile players, and this should be accounted for in free agent negotiations.\n",
    "\n",
    "Lastly, it is important to note the increase in free agent contracts and overall salaries around the league. With the increase of average contract length and value in the 2022 free agency class thus far, the total contract value difference between player A and B simply might not be as significant as in previous eras.\n",
    "\n",
    "In summation, player A's contract is a better option strictly speaking in terms of dollar value, but there are factors that might make player B a better option, as well as the sheer influence a player's position has on WAR calculations."
   ]
  },
  {
   "cell_type": "markdown",
   "id": "270e7235",
   "metadata": {},
   "source": [
    "# 8."
   ]
  },
  {
   "cell_type": "markdown",
   "id": "5c988900",
   "metadata": {},
   "source": [
    "#### In 2022, two minor leagues used an automated ball-strike (ABS) challenge system, in which the umpire calls balls and strikes, but the pitcher, catcher, and batter may challenge the call. Each team is allocated three challenges per game with successful challenges retained. If this system were to be implemented in the majors in 2024, how should teams adjust their team building and gameplay strategies to prepare? Please limit your answer to 300 words."
   ]
  },
  {
   "cell_type": "markdown",
   "id": "676543ec",
   "metadata": {},
   "source": [
    "There should be analysis of measure.\n",
    "- Even as a lifelong fan, I've noticed the umpire's tendency to call balls and strikes based off the count"
   ]
  }
 ],
 "metadata": {
  "kernelspec": {
   "display_name": "Python 3 (ipykernel)",
   "language": "python",
   "name": "python3"
  },
  "language_info": {
   "codemirror_mode": {
    "name": "ipython",
    "version": 3
   },
   "file_extension": ".py",
   "mimetype": "text/x-python",
   "name": "python",
   "nbconvert_exporter": "python",
   "pygments_lexer": "ipython3",
   "version": "3.9.7"
  }
 },
 "nbformat": 4,
 "nbformat_minor": 5
}
